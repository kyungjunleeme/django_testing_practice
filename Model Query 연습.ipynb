{
 "cells": [
  {
   "cell_type": "code",
   "execution_count": 7,
   "id": "4b323883",
   "metadata": {},
   "outputs": [],
   "source": [
    "import os\n",
    "os.environ['DJANGO_SETTINGS_MODULE'] = 'django_testing_practice.settings'\n",
    "os.environ[\"DJANGO_ALLOW_ASYNC_UNSAFE\"] = \"true\""
   ]
  },
  {
   "cell_type": "code",
   "execution_count": 8,
   "id": "5ad1afe2",
   "metadata": {},
   "outputs": [],
   "source": [
    "import django\n",
    "django.setup()"
   ]
  },
  {
   "cell_type": "code",
   "execution_count": 11,
   "id": "e78b7924",
   "metadata": {},
   "outputs": [],
   "source": [
    "from products.models import Product"
   ]
  },
  {
   "cell_type": "code",
   "execution_count": 14,
   "id": "39c475ec",
   "metadata": {},
   "outputs": [],
   "source": [
    "from django.utils import timezone"
   ]
  },
  {
   "cell_type": "code",
   "execution_count": 16,
   "id": "446ee2df",
   "metadata": {},
   "outputs": [],
   "source": [
    "Product.objects.create(name=\"Book\", description=\"An awesome django book\", price=19.00, quantity=100, published_on=timezone.now()).save()"
   ]
  },
  {
   "cell_type": "code",
   "execution_count": 18,
   "id": "1cb99692",
   "metadata": {},
   "outputs": [
    {
     "data": {
      "text/plain": [
       "<Product: Product object (1)>"
      ]
     },
     "execution_count": 18,
     "metadata": {},
     "output_type": "execute_result"
    }
   ],
   "source": [
    "Product.objects.get(pk=1)"
   ]
  },
  {
   "cell_type": "code",
   "execution_count": null,
   "id": "e81bb7c4",
   "metadata": {},
   "outputs": [],
   "source": []
  }
 ],
 "metadata": {
  "kernelspec": {
   "display_name": "Python 3 (ipykernel)",
   "language": "python",
   "name": "python3"
  },
  "language_info": {
   "codemirror_mode": {
    "name": "ipython",
    "version": 3
   },
   "file_extension": ".py",
   "mimetype": "text/x-python",
   "name": "python",
   "nbconvert_exporter": "python",
   "pygments_lexer": "ipython3",
   "version": "3.8.7"
  }
 },
 "nbformat": 4,
 "nbformat_minor": 5
}
